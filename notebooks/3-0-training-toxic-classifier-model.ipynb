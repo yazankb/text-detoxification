{
 "cells": [
  {
   "cell_type": "code",
   "execution_count": 1,
   "metadata": {
    "_cell_guid": "b1076dfc-b9ad-4769-8c92-a6c4dae69d19",
    "_uuid": "8f2839f25d086af736a60e9eeb907d3b93b6e0e5",
    "execution": {
     "iopub.execute_input": "2023-11-05T17:17:28.903163Z",
     "iopub.status.busy": "2023-11-05T17:17:28.902361Z",
     "iopub.status.idle": "2023-11-05T17:17:28.961675Z",
     "shell.execute_reply": "2023-11-05T17:17:28.960745Z",
     "shell.execute_reply.started": "2023-11-05T17:17:28.903127Z"
    }
   },
   "outputs": [],
   "source": [
    "# This Python 3 environment comes with many helpful analytics libraries installed\n",
    "# It is defined by the kaggle/python Docker image: https://github.com/kaggle/docker-python\n",
    "# For example, here's several helpful packages to load\n",
    "\n",
    "import numpy as np # linear algebra\n",
    "import pandas as pd # data processing, CSV file I/O (e.g. pd.read_csv)\n",
    "\n",
    "# Input data files are available in the read-only \"../input/\" directory\n",
    "# For example, running this (by clicking run or pressing Shift+Enter) will list all files under the input directory\n",
    "\n",
    "import os\n",
    "for dirname, _, filenames in os.walk('/kaggle/input'):\n",
    "    for filename in filenames:\n",
    "        print(os.path.join(dirname, filename))\n",
    "\n",
    "# You can write up to 20GB to the current directory (/kaggle/working/) that gets preserved as output when you create a version using \"Save & Run All\" \n",
    "# You can also write temporary files to /kaggle/temp/, but they won't be saved outside of the current session"
   ]
  },
  {
   "cell_type": "code",
   "execution_count": 2,
   "metadata": {
    "execution": {
     "iopub.execute_input": "2023-11-05T17:17:28.963521Z",
     "iopub.status.busy": "2023-11-05T17:17:28.963233Z",
     "iopub.status.idle": "2023-11-05T17:18:03.988368Z",
     "shell.execute_reply": "2023-11-05T17:18:03.987359Z",
     "shell.execute_reply.started": "2023-11-05T17:17:28.963495Z"
    }
   },
   "outputs": [
    {
     "name": "stdout",
     "output_type": "stream",
     "text": [
      "Requirement already satisfied: transformers in c:\\users\\yazan\\anaconda3\\lib\\site-packages (4.35.0)\n",
      "Requirement already satisfied: packaging>=20.0 in c:\\users\\yazan\\anaconda3\\lib\\site-packages (from transformers) (23.0)\n",
      "Requirement already satisfied: requests in c:\\users\\yazan\\anaconda3\\lib\\site-packages (from transformers) (2.31.0)\n",
      "Requirement already satisfied: tqdm>=4.27 in c:\\users\\yazan\\anaconda3\\lib\\site-packages (from transformers) (4.65.0)\n",
      "Requirement already satisfied: regex!=2019.12.17 in c:\\users\\yazan\\anaconda3\\lib\\site-packages (from transformers) (2023.8.8)\n",
      "Requirement already satisfied: safetensors>=0.3.1 in c:\\users\\yazan\\anaconda3\\lib\\site-packages (from transformers) (0.3.1)\n",
      "Requirement already satisfied: tokenizers<0.15,>=0.14 in c:\\users\\yazan\\anaconda3\\lib\\site-packages (from transformers) (0.14.1)\n",
      "Requirement already satisfied: pyyaml>=5.1 in c:\\users\\yazan\\anaconda3\\lib\\site-packages (from transformers) (6.0)\n",
      "Requirement already satisfied: numpy>=1.17 in c:\\users\\yazan\\anaconda3\\lib\\site-packages (from transformers) (1.25.2)\n",
      "Requirement already satisfied: huggingface-hub<1.0,>=0.16.4 in c:\\users\\yazan\\anaconda3\\lib\\site-packages (from transformers) (0.16.4)\n",
      "Requirement already satisfied: filelock in c:\\users\\yazan\\anaconda3\\lib\\site-packages (from transformers) (3.9.0)\n",
      "Requirement already satisfied: fsspec in c:\\users\\yazan\\anaconda3\\lib\\site-packages (from huggingface-hub<1.0,>=0.16.4->transformers) (2023.6.0)\n",
      "Requirement already satisfied: typing-extensions>=3.7.4.3 in c:\\users\\yazan\\anaconda3\\lib\\site-packages (from huggingface-hub<1.0,>=0.16.4->transformers) (4.7.1)\n",
      "Requirement already satisfied: colorama in c:\\users\\yazan\\anaconda3\\lib\\site-packages (from tqdm>=4.27->transformers) (0.4.6)\n",
      "Requirement already satisfied: charset-normalizer<4,>=2 in c:\\users\\yazan\\anaconda3\\lib\\site-packages (from requests->transformers) (2.0.4)\n",
      "Requirement already satisfied: urllib3<3,>=1.21.1 in c:\\users\\yazan\\anaconda3\\lib\\site-packages (from requests->transformers) (1.26.16)\n",
      "Requirement already satisfied: certifi>=2017.4.17 in c:\\users\\yazan\\anaconda3\\lib\\site-packages (from requests->transformers) (2023.7.22)\n",
      "Requirement already satisfied: idna<4,>=2.5 in c:\\users\\yazan\\anaconda3\\lib\\site-packages (from requests->transformers) (3.4)\n"
     ]
    },
    {
     "name": "stderr",
     "output_type": "stream",
     "text": [
      "WARNING: Ignoring invalid distribution -ycocotools (c:\\users\\yazan\\anaconda3\\lib\\site-packages)\n",
      "WARNING: Ignoring invalid distribution -ycocotools (c:\\users\\yazan\\anaconda3\\lib\\site-packages)\n",
      "WARNING: Ignoring invalid distribution -ycocotools (c:\\users\\yazan\\anaconda3\\lib\\site-packages)\n",
      "WARNING: Ignoring invalid distribution -ycocotools (c:\\users\\yazan\\anaconda3\\lib\\site-packages)\n",
      "WARNING: Ignoring invalid distribution -ycocotools (c:\\users\\yazan\\anaconda3\\lib\\site-packages)\n",
      "WARNING: Ignoring invalid distribution -ycocotools (c:\\users\\yazan\\anaconda3\\lib\\site-packages)\n"
     ]
    },
    {
     "name": "stdout",
     "output_type": "stream",
     "text": [
      "Requirement already satisfied: evaluate in c:\\users\\yazan\\anaconda3\\lib\\site-packages (0.4.1)\n",
      "Requirement already satisfied: huggingface-hub>=0.7.0 in c:\\users\\yazan\\anaconda3\\lib\\site-packages (from evaluate) (0.16.4)\n",
      "Requirement already satisfied: responses<0.19 in c:\\users\\yazan\\anaconda3\\lib\\site-packages (from evaluate) (0.18.0)\n",
      "Requirement already satisfied: dill in c:\\users\\yazan\\anaconda3\\lib\\site-packages (from evaluate) (0.3.7)\n",
      "Requirement already satisfied: tqdm>=4.62.1 in c:\\users\\yazan\\anaconda3\\lib\\site-packages (from evaluate) (4.65.0)\n",
      "Requirement already satisfied: xxhash in c:\\users\\yazan\\anaconda3\\lib\\site-packages (from evaluate) (3.4.1)\n",
      "Requirement already satisfied: pandas in c:\\users\\yazan\\anaconda3\\lib\\site-packages (from evaluate) (2.0.3)\n",
      "Requirement already satisfied: multiprocess in c:\\users\\yazan\\anaconda3\\lib\\site-packages (from evaluate) (0.70.15)\n",
      "Requirement already satisfied: fsspec[http]>=2021.05.0 in c:\\users\\yazan\\anaconda3\\lib\\site-packages (from evaluate) (2023.6.0)\n",
      "Requirement already satisfied: datasets>=2.0.0 in c:\\users\\yazan\\anaconda3\\lib\\site-packages (from evaluate) (2.14.6)\n",
      "Requirement already satisfied: packaging in c:\\users\\yazan\\anaconda3\\lib\\site-packages (from evaluate) (23.0)\n",
      "Requirement already satisfied: numpy>=1.17 in c:\\users\\yazan\\anaconda3\\lib\\site-packages (from evaluate) (1.25.2)\n",
      "Requirement already satisfied: requests>=2.19.0 in c:\\users\\yazan\\anaconda3\\lib\\site-packages (from evaluate) (2.31.0)\n",
      "Requirement already satisfied: pyarrow>=8.0.0 in c:\\users\\yazan\\anaconda3\\lib\\site-packages (from datasets>=2.0.0->evaluate) (14.0.0)\n",
      "Requirement already satisfied: aiohttp in c:\\users\\yazan\\anaconda3\\lib\\site-packages (from datasets>=2.0.0->evaluate) (3.8.3)\n",
      "Requirement already satisfied: pyyaml>=5.1 in c:\\users\\yazan\\anaconda3\\lib\\site-packages (from datasets>=2.0.0->evaluate) (6.0)\n",
      "Requirement already satisfied: filelock in c:\\users\\yazan\\anaconda3\\lib\\site-packages (from huggingface-hub>=0.7.0->evaluate) (3.9.0)\n",
      "Requirement already satisfied: typing-extensions>=3.7.4.3 in c:\\users\\yazan\\anaconda3\\lib\\site-packages (from huggingface-hub>=0.7.0->evaluate) (4.7.1)\n",
      "Requirement already satisfied: urllib3<3,>=1.21.1 in c:\\users\\yazan\\anaconda3\\lib\\site-packages (from requests>=2.19.0->evaluate) (1.26.16)\n",
      "Requirement already satisfied: charset-normalizer<4,>=2 in c:\\users\\yazan\\anaconda3\\lib\\site-packages (from requests>=2.19.0->evaluate) (2.0.4)\n",
      "Requirement already satisfied: certifi>=2017.4.17 in c:\\users\\yazan\\anaconda3\\lib\\site-packages (from requests>=2.19.0->evaluate) (2023.7.22)\n",
      "Requirement already satisfied: idna<4,>=2.5 in c:\\users\\yazan\\anaconda3\\lib\\site-packages (from requests>=2.19.0->evaluate) (3.4)\n",
      "Requirement already satisfied: colorama in c:\\users\\yazan\\anaconda3\\lib\\site-packages (from tqdm>=4.62.1->evaluate) (0.4.6)\n",
      "Requirement already satisfied: tzdata>=2022.1 in c:\\users\\yazan\\anaconda3\\lib\\site-packages (from pandas->evaluate) (2023.3)\n",
      "Requirement already satisfied: python-dateutil>=2.8.2 in c:\\users\\yazan\\anaconda3\\lib\\site-packages (from pandas->evaluate) (2.8.2)\n",
      "Requirement already satisfied: pytz>=2020.1 in c:\\users\\yazan\\anaconda3\\lib\\site-packages (from pandas->evaluate) (2022.7)\n",
      "Requirement already satisfied: frozenlist>=1.1.1 in c:\\users\\yazan\\anaconda3\\lib\\site-packages (from aiohttp->datasets>=2.0.0->evaluate) (1.3.3)\n",
      "Requirement already satisfied: multidict<7.0,>=4.5 in c:\\users\\yazan\\anaconda3\\lib\\site-packages (from aiohttp->datasets>=2.0.0->evaluate) (6.0.2)\n",
      "Requirement already satisfied: async-timeout<5.0,>=4.0.0a3 in c:\\users\\yazan\\anaconda3\\lib\\site-packages (from aiohttp->datasets>=2.0.0->evaluate) (4.0.2)\n",
      "Requirement already satisfied: aiosignal>=1.1.2 in c:\\users\\yazan\\anaconda3\\lib\\site-packages (from aiohttp->datasets>=2.0.0->evaluate) (1.2.0)\n",
      "Requirement already satisfied: yarl<2.0,>=1.0 in c:\\users\\yazan\\anaconda3\\lib\\site-packages (from aiohttp->datasets>=2.0.0->evaluate) (1.8.1)\n",
      "Requirement already satisfied: attrs>=17.3.0 in c:\\users\\yazan\\anaconda3\\lib\\site-packages (from aiohttp->datasets>=2.0.0->evaluate) (22.1.0)\n",
      "Requirement already satisfied: six>=1.5 in c:\\users\\yazan\\anaconda3\\lib\\site-packages (from python-dateutil>=2.8.2->pandas->evaluate) (1.16.0)\n"
     ]
    },
    {
     "name": "stderr",
     "output_type": "stream",
     "text": [
      "WARNING: Ignoring invalid distribution -ycocotools (c:\\users\\yazan\\anaconda3\\lib\\site-packages)\n",
      "WARNING: Ignoring invalid distribution -ycocotools (c:\\users\\yazan\\anaconda3\\lib\\site-packages)\n",
      "WARNING: Ignoring invalid distribution -ycocotools (c:\\users\\yazan\\anaconda3\\lib\\site-packages)\n",
      "WARNING: Ignoring invalid distribution -ycocotools (c:\\users\\yazan\\anaconda3\\lib\\site-packages)\n",
      "WARNING: Ignoring invalid distribution -ycocotools (c:\\users\\yazan\\anaconda3\\lib\\site-packages)\n",
      "WARNING: Ignoring invalid distribution -ycocotools (c:\\users\\yazan\\anaconda3\\lib\\site-packages)\n"
     ]
    },
    {
     "name": "stdout",
     "output_type": "stream",
     "text": [
      "Requirement already satisfied: accelerate in c:\\users\\yazan\\anaconda3\\lib\\site-packages (0.24.1)\n",
      "Requirement already satisfied: torch>=1.10.0 in c:\\users\\yazan\\anaconda3\\lib\\site-packages (from accelerate) (2.0.1)\n",
      "Requirement already satisfied: pyyaml in c:\\users\\yazan\\anaconda3\\lib\\site-packages (from accelerate) (6.0)\n",
      "Requirement already satisfied: psutil in c:\\users\\yazan\\anaconda3\\lib\\site-packages (from accelerate) (5.9.0)\n",
      "Requirement already satisfied: huggingface-hub in c:\\users\\yazan\\anaconda3\\lib\\site-packages (from accelerate) (0.16.4)\n",
      "Requirement already satisfied: numpy>=1.17 in c:\\users\\yazan\\anaconda3\\lib\\site-packages (from accelerate) (1.25.2)\n",
      "Requirement already satisfied: packaging>=20.0 in c:\\users\\yazan\\anaconda3\\lib\\site-packages (from accelerate) (23.0)\n",
      "Requirement already satisfied: filelock in c:\\users\\yazan\\anaconda3\\lib\\site-packages (from torch>=1.10.0->accelerate) (3.9.0)\n",
      "Requirement already satisfied: typing-extensions in c:\\users\\yazan\\anaconda3\\lib\\site-packages (from torch>=1.10.0->accelerate) (4.7.1)\n",
      "Requirement already satisfied: sympy in c:\\users\\yazan\\anaconda3\\lib\\site-packages (from torch>=1.10.0->accelerate) (1.11.1)\n",
      "Requirement already satisfied: networkx in c:\\users\\yazan\\anaconda3\\lib\\site-packages (from torch>=1.10.0->accelerate) (3.1)\n",
      "Requirement already satisfied: jinja2 in c:\\users\\yazan\\anaconda3\\lib\\site-packages (from torch>=1.10.0->accelerate) (3.1.2)\n",
      "Requirement already satisfied: tqdm>=4.42.1 in c:\\users\\yazan\\anaconda3\\lib\\site-packages (from huggingface-hub->accelerate) (4.65.0)\n",
      "Requirement already satisfied: requests in c:\\users\\yazan\\anaconda3\\lib\\site-packages (from huggingface-hub->accelerate) (2.31.0)\n",
      "Requirement already satisfied: fsspec in c:\\users\\yazan\\anaconda3\\lib\\site-packages (from huggingface-hub->accelerate) (2023.6.0)\n",
      "Requirement already satisfied: colorama in c:\\users\\yazan\\anaconda3\\lib\\site-packages (from tqdm>=4.42.1->huggingface-hub->accelerate) (0.4.6)\n",
      "Requirement already satisfied: MarkupSafe>=2.0 in c:\\users\\yazan\\anaconda3\\lib\\site-packages (from jinja2->torch>=1.10.0->accelerate) (2.1.1)\n",
      "Requirement already satisfied: charset-normalizer<4,>=2 in c:\\users\\yazan\\anaconda3\\lib\\site-packages (from requests->huggingface-hub->accelerate) (2.0.4)\n",
      "Requirement already satisfied: urllib3<3,>=1.21.1 in c:\\users\\yazan\\anaconda3\\lib\\site-packages (from requests->huggingface-hub->accelerate) (1.26.16)\n",
      "Requirement already satisfied: idna<4,>=2.5 in c:\\users\\yazan\\anaconda3\\lib\\site-packages (from requests->huggingface-hub->accelerate) (3.4)\n",
      "Requirement already satisfied: certifi>=2017.4.17 in c:\\users\\yazan\\anaconda3\\lib\\site-packages (from requests->huggingface-hub->accelerate) (2023.7.22)\n",
      "Requirement already satisfied: mpmath>=0.19 in c:\\users\\yazan\\anaconda3\\lib\\site-packages (from sympy->torch>=1.10.0->accelerate) (1.3.0)\n"
     ]
    },
    {
     "name": "stderr",
     "output_type": "stream",
     "text": [
      "WARNING: Ignoring invalid distribution -ycocotools (c:\\users\\yazan\\anaconda3\\lib\\site-packages)\n",
      "WARNING: Ignoring invalid distribution -ycocotools (c:\\users\\yazan\\anaconda3\\lib\\site-packages)\n",
      "WARNING: Ignoring invalid distribution -ycocotools (c:\\users\\yazan\\anaconda3\\lib\\site-packages)\n",
      "WARNING: Ignoring invalid distribution -ycocotools (c:\\users\\yazan\\anaconda3\\lib\\site-packages)\n",
      "WARNING: Ignoring invalid distribution -ycocotools (c:\\users\\yazan\\anaconda3\\lib\\site-packages)\n",
      "WARNING: Ignoring invalid distribution -ycocotools (c:\\users\\yazan\\anaconda3\\lib\\site-packages)\n"
     ]
    }
   ],
   "source": [
    "!pip install transformers\n",
    "!pip install evaluate\n",
    "!pip install accelerate -U"
   ]
  },
  {
   "cell_type": "code",
   "execution_count": 3,
   "metadata": {
    "execution": {
     "iopub.execute_input": "2023-11-05T17:18:03.990411Z",
     "iopub.status.busy": "2023-11-05T17:18:03.990025Z",
     "iopub.status.idle": "2023-11-05T17:18:03.997818Z",
     "shell.execute_reply": "2023-11-05T17:18:03.996831Z",
     "shell.execute_reply.started": "2023-11-05T17:18:03.990370Z"
    }
   },
   "outputs": [],
   "source": [
    "import sys\n",
    "import torch\n",
    "import pandas as pd\n",
    "from transformers import BertTokenizer, BertModel, BertConfig\n",
    "from torch.utils.data import DataLoader\n",
    "kaggle = False\n",
    "if 'KAGGLE_KERNEL_RUN_TYPE' in os.environ:\n",
    "    if os.environ['KAGGLE_KERNEL_RUN_TYPE'] == 'Interactive':\n",
    "        kaggle = True\n",
    "        \n",
    "if kaggle:\n",
    "    sys.path.append('/kaggle/input/text-detoxification/Text-Detoxification')\n",
    "\n",
    "    \n",
    "#disabling wandb.ai\n",
    "os.environ[\"WANDB_DISABLED\"] = \"true\"\n"
   ]
  },
  {
   "cell_type": "code",
   "execution_count": 4,
   "metadata": {
    "execution": {
     "iopub.execute_input": "2023-11-05T17:18:04.000401Z",
     "iopub.status.busy": "2023-11-05T17:18:04.000118Z",
     "iopub.status.idle": "2023-11-05T17:18:04.011601Z",
     "shell.execute_reply": "2023-11-05T17:18:04.010715Z",
     "shell.execute_reply.started": "2023-11-05T17:18:04.000377Z"
    }
   },
   "outputs": [],
   "source": [
    "from src.data.make_dataset import ToxicTextClassificationDataset\n",
    "from src.models.train_model import TrainToxicTextClassifier\n",
    "from src.models.train_model import BERTClass\n",
    "from src.models.train_model import ValidateToxicTextClassifier"
   ]
  },
  {
   "cell_type": "code",
   "execution_count": 5,
   "metadata": {
    "execution": {
     "iopub.execute_input": "2023-11-05T17:18:04.013195Z",
     "iopub.status.busy": "2023-11-05T17:18:04.012811Z",
     "iopub.status.idle": "2023-11-05T17:18:04.023513Z",
     "shell.execute_reply": "2023-11-05T17:18:04.022590Z",
     "shell.execute_reply.started": "2023-11-05T17:18:04.013162Z"
    }
   },
   "outputs": [],
   "source": [
    "# Defining some key variables that will be used later on in the training\n",
    "MAX_LEN = 64\n",
    "TRAIN_BATCH_SIZE = 128\n",
    "VALID_BATCH_SIZE = 64\n",
    "EPOCHS = 3\n",
    "LEARNING_RATE = 1e-04"
   ]
  },
  {
   "cell_type": "code",
   "execution_count": 6,
   "metadata": {
    "execution": {
     "iopub.execute_input": "2023-11-05T17:18:04.025276Z",
     "iopub.status.busy": "2023-11-05T17:18:04.024881Z",
     "iopub.status.idle": "2023-11-05T17:18:07.485262Z",
     "shell.execute_reply": "2023-11-05T17:18:07.484437Z",
     "shell.execute_reply.started": "2023-11-05T17:18:04.025245Z"
    }
   },
   "outputs": [],
   "source": [
    "file_path = 'data/raw/filtered.tsv'\n",
    "if kaggle:\n",
    "    file_path = '/kaggle/input/text-detoxification/Text-Detoxification/' + file_path\n",
    "\n",
    "\n",
    "df = pd.read_csv(file_path, sep='\\t')\n",
    "\n",
    "checkpoint = 'bert-base-uncased'\n",
    "model = BERTClass(checkpoint)\n",
    "tokenizer = BertTokenizer.from_pretrained(checkpoint)\n",
    "\n",
    "device = torch.device(\"cuda\" if torch.cuda.is_available() else \"cpu\")\n",
    "model = model.to(device)\n"
   ]
  },
  {
   "cell_type": "code",
   "execution_count": 7,
   "metadata": {
    "execution": {
     "iopub.execute_input": "2023-11-05T17:18:07.486673Z",
     "iopub.status.busy": "2023-11-05T17:18:07.486380Z",
     "iopub.status.idle": "2023-11-05T17:18:07.762570Z",
     "shell.execute_reply": "2023-11-05T17:18:07.761734Z",
     "shell.execute_reply.started": "2023-11-05T17:18:07.486647Z"
    }
   },
   "outputs": [],
   "source": [
    "from sklearn.model_selection import train_test_split\n",
    "\n",
    "\n",
    "# Split the dataset into train, test sets\n",
    "train_df, test_df = train_test_split(df, test_size=0.2, random_state=42)\n",
    "\n",
    "# Create datasets using the split data\n",
    "train_dataset = ToxicTextClassificationDataset(train_df.reset_index(drop=True), tokenizer, 64)\n",
    "test_dataset = ToxicTextClassificationDataset(test_df.reset_index(drop=True), tokenizer, 64)\n"
   ]
  },
  {
   "cell_type": "code",
   "execution_count": 8,
   "metadata": {
    "execution": {
     "iopub.execute_input": "2023-11-05T17:18:07.764835Z",
     "iopub.status.busy": "2023-11-05T17:18:07.763974Z",
     "iopub.status.idle": "2023-11-05T17:18:07.770809Z",
     "shell.execute_reply": "2023-11-05T17:18:07.769747Z",
     "shell.execute_reply.started": "2023-11-05T17:18:07.764792Z"
    }
   },
   "outputs": [],
   "source": [
    "train_params = {'batch_size': TRAIN_BATCH_SIZE,\n",
    "                'shuffle': True,\n",
    "                'num_workers': 0\n",
    "                }\n",
    "\n",
    "test_params = {'batch_size': VALID_BATCH_SIZE,\n",
    "                'shuffle': True,\n",
    "                'num_workers': 0\n",
    "                }\n",
    "\n",
    "training_loader = DataLoader(train_dataset, **train_params)\n",
    "testing_loader = DataLoader(test_dataset, **test_params)"
   ]
  },
  {
   "cell_type": "code",
   "execution_count": 9,
   "metadata": {
    "execution": {
     "iopub.execute_input": "2023-11-05T17:18:07.772368Z",
     "iopub.status.busy": "2023-11-05T17:18:07.772078Z",
     "iopub.status.idle": "2023-11-05T17:18:07.783016Z",
     "shell.execute_reply": "2023-11-05T17:18:07.782241Z",
     "shell.execute_reply.started": "2023-11-05T17:18:07.772343Z"
    }
   },
   "outputs": [],
   "source": [
    "def loss_fn(outputs, targets):\n",
    "    return torch.nn.BCEWithLogitsLoss()(outputs.squeeze(1), targets)"
   ]
  },
  {
   "cell_type": "code",
   "execution_count": 10,
   "metadata": {
    "execution": {
     "iopub.execute_input": "2023-11-05T17:18:07.786761Z",
     "iopub.status.busy": "2023-11-05T17:18:07.786360Z",
     "iopub.status.idle": "2023-11-05T17:18:07.796054Z",
     "shell.execute_reply": "2023-11-05T17:18:07.795151Z",
     "shell.execute_reply.started": "2023-11-05T17:18:07.786734Z"
    }
   },
   "outputs": [],
   "source": [
    "optimizer = torch.optim.Adam(params =  model.parameters(), lr=LEARNING_RATE)"
   ]
  },
  {
   "cell_type": "code",
   "execution_count": 11,
   "metadata": {
    "execution": {
     "iopub.execute_input": "2023-11-05T17:18:07.797469Z",
     "iopub.status.busy": "2023-11-05T17:18:07.797186Z",
     "iopub.status.idle": "2023-11-05T18:57:16.010374Z",
     "shell.execute_reply": "2023-11-05T18:57:16.008629Z",
     "shell.execute_reply.started": "2023-11-05T17:18:07.797445Z"
    }
   },
   "outputs": [],
   "source": [
    "#ret = TrainToxicTextClassifier(model, training_loader, testing_loader, device, loss_fn, optimizer, EPOCHS, save_name = 'bert-base-uncased-finetuned')"
   ]
  },
  {
   "cell_type": "code",
   "execution_count": 12,
   "metadata": {
    "execution": {
     "iopub.execute_input": "2023-11-05T18:59:39.607123Z",
     "iopub.status.busy": "2023-11-05T18:59:39.606384Z",
     "iopub.status.idle": "2023-11-05T18:59:40.226702Z",
     "shell.execute_reply": "2023-11-05T18:59:40.225733Z",
     "shell.execute_reply.started": "2023-11-05T18:59:39.607086Z"
    }
   },
   "outputs": [
    {
     "data": {
      "text/plain": [
       "<All keys matched successfully>"
      ]
     },
     "execution_count": 12,
     "metadata": {},
     "output_type": "execute_result"
    }
   ],
   "source": [
    "#torch.save(model.state_dict(), 'ToxicClassificationDataset.pth')\n",
    "model.load_state_dict(torch.load('models/ToxicClassificationDataset.pth'))"
   ]
  },
  {
   "cell_type": "code",
   "execution_count": 13,
   "metadata": {},
   "outputs": [
    {
     "name": "stderr",
     "output_type": "stream",
     "text": [
      "Truncation was not explicitly activated but `max_length` is provided a specific value, please use `truncation=True` to explicitly truncate examples to max length. Defaulting to 'longest_first' truncation strategy. If you encode pairs of sequences (GLUE-style) with the tokenizer you can select this strategy more precisely by providing a specific strategy to `truncation`.\n",
      "C:\\Users\\Yazan\\anaconda3\\lib\\site-packages\\transformers\\tokenization_utils_base.py:2614: FutureWarning: The `pad_to_max_length` argument is deprecated and will be removed in a future version, use `padding=True` or `padding='longest'` to pad to the longest sequence in the batch, or use `padding='max_length'` to pad to a max length. In this case, you can give a specific length with `max_length` (e.g. `max_length=45`) or leave max_length to None to pad to the maximal input size of the model (e.g. 512 for Bert).\n",
      "  warnings.warn(\n",
      "C:\\Users\\Yazan\\anaconda3\\lib\\site-packages\\transformers\\tokenization_utils_base.py:2614: FutureWarning: The `pad_to_max_length` argument is deprecated and will be removed in a future version, use `padding=True` or `padding='longest'` to pad to the longest sequence in the batch, or use `padding='max_length'` to pad to a max length. In this case, you can give a specific length with `max_length` (e.g. `max_length=45`) or leave max_length to None to pad to the maximal input size of the model (e.g. 512 for Bert).\n",
      "  warnings.warn(\n"
     ]
    },
    {
     "data": {
      "text/plain": [
       "{'accuracy': 0.8648897058823529, 'f1_score_macro': 0.8648886786316194}"
      ]
     },
     "execution_count": 13,
     "metadata": {},
     "output_type": "execute_result"
    }
   ],
   "source": [
    "ValidateToxicTextClassifier(model, testing_loader, device, best_f1 = 0)"
   ]
  },
  {
   "cell_type": "code",
   "execution_count": null,
   "metadata": {},
   "outputs": [],
   "source": []
  },
  {
   "cell_type": "code",
   "execution_count": null,
   "metadata": {},
   "outputs": [],
   "source": []
  }
 ],
 "metadata": {
  "kernelspec": {
   "display_name": "Python 3 (ipykernel)",
   "language": "python",
   "name": "python3"
  },
  "language_info": {
   "codemirror_mode": {
    "name": "ipython",
    "version": 3
   },
   "file_extension": ".py",
   "mimetype": "text/x-python",
   "name": "python",
   "nbconvert_exporter": "python",
   "pygments_lexer": "ipython3",
   "version": "3.10.9"
  }
 },
 "nbformat": 4,
 "nbformat_minor": 4
}
