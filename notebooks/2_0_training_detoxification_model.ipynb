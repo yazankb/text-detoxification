{
  "cells": [
    {
      "cell_type": "code",
      "source": [
        "!unzip Text-Detoxification.zip"
      ],
      "metadata": {
        "colab": {
          "base_uri": "https://localhost:8080/"
        },
        "id": "wbuDO8cAJGmu",
        "outputId": "95807fd4-2865-46ed-b0b9-d8da90e87801"
      },
      "id": "wbuDO8cAJGmu",
      "execution_count": null,
      "outputs": [
        {
          "output_type": "stream",
          "name": "stdout",
          "text": [
            "Archive:  Text-Detoxification.zip\n",
            "   creating: Text-Detoxification/\n",
            "   creating: Text-Detoxification/.ipynb_checkpoints/\n",
            "  inflating: Text-Detoxification/.ipynb_checkpoints/1.0-initial-data-exporation-checkpoint.ipynb  \n",
            "   creating: Text-Detoxification/data/\n",
            "   creating: Text-Detoxification/data/raw/\n",
            "  inflating: Text-Detoxification/data/raw/filtered.tsv  \n",
            "   creating: Text-Detoxification/models/\n",
            "   creating: Text-Detoxification/models/runs/\n",
            "   creating: Text-Detoxification/models/runs/Nov05_08-42-35_DESKTOP-NV6R2CU/\n",
            "  inflating: Text-Detoxification/models/runs/Nov05_08-42-35_DESKTOP-NV6R2CU/events.out.tfevents.1699162959.DESKTOP-NV6R2CU.596.0  \n",
            "   creating: Text-Detoxification/models/runs/Nov05_08-44-43_DESKTOP-NV6R2CU/\n",
            "  inflating: Text-Detoxification/models/runs/Nov05_08-44-43_DESKTOP-NV6R2CU/events.out.tfevents.1699163083.DESKTOP-NV6R2CU.596.1  \n",
            "   creating: Text-Detoxification/models/runs/Nov05_08-44-46_DESKTOP-NV6R2CU/\n",
            "  inflating: Text-Detoxification/models/runs/Nov05_08-44-46_DESKTOP-NV6R2CU/events.out.tfevents.1699163087.DESKTOP-NV6R2CU.596.2  \n",
            "   creating: Text-Detoxification/models/runs/Nov05_08-48-47_DESKTOP-NV6R2CU/\n",
            "  inflating: Text-Detoxification/models/runs/Nov05_08-48-47_DESKTOP-NV6R2CU/events.out.tfevents.1699163332.DESKTOP-NV6R2CU.11504.0  \n",
            "   creating: Text-Detoxification/models/runs/Nov05_09-03-53_DESKTOP-NV6R2CU/\n",
            "  inflating: Text-Detoxification/models/runs/Nov05_09-03-53_DESKTOP-NV6R2CU/events.out.tfevents.1699164239.DESKTOP-NV6R2CU.17156.0  \n",
            "   creating: Text-Detoxification/models/runs/Nov05_09-04-22_DESKTOP-NV6R2CU/\n",
            "  inflating: Text-Detoxification/models/runs/Nov05_09-04-22_DESKTOP-NV6R2CU/events.out.tfevents.1699164262.DESKTOP-NV6R2CU.17156.1  \n",
            "   creating: Text-Detoxification/models/runs/Nov05_09-05-37_DESKTOP-NV6R2CU/\n",
            "  inflating: Text-Detoxification/models/runs/Nov05_09-05-37_DESKTOP-NV6R2CU/events.out.tfevents.1699164345.DESKTOP-NV6R2CU.7164.0  \n",
            "   creating: Text-Detoxification/models/runs/Nov05_09-08-44_DESKTOP-NV6R2CU/\n",
            "  inflating: Text-Detoxification/models/runs/Nov05_09-08-44_DESKTOP-NV6R2CU/events.out.tfevents.1699164531.DESKTOP-NV6R2CU.12632.0  \n",
            "   creating: Text-Detoxification/models/runs/Nov05_09-14-36_DESKTOP-NV6R2CU/\n",
            "  inflating: Text-Detoxification/models/runs/Nov05_09-14-36_DESKTOP-NV6R2CU/events.out.tfevents.1699164892.DESKTOP-NV6R2CU.11240.0  \n",
            "   creating: Text-Detoxification/notebooks/\n",
            "   creating: Text-Detoxification/notebooks/.ipynb_checkpoints/\n",
            "  inflating: Text-Detoxification/notebooks/.ipynb_checkpoints/1.0-initial-data-exploration-checkpoint.ipynb  \n",
            "  inflating: Text-Detoxification/notebooks/.ipynb_checkpoints/Untitled-checkpoint.ipynb  \n",
            "  inflating: Text-Detoxification/notebooks/1.0-initial-data-exploration.ipynb  \n",
            "  inflating: Text-Detoxification/notebooks/Untitled.ipynb  \n",
            "  inflating: Text-Detoxification/README.md  \n",
            "   creating: Text-Detoxification/references/\n",
            "   creating: Text-Detoxification/reports/\n",
            "   creating: Text-Detoxification/reports/figures/\n",
            "   creating: Text-Detoxification/src/\n",
            "   creating: Text-Detoxification/src/data/\n",
            "  inflating: Text-Detoxification/src/data/make_dataset.py  \n",
            "  inflating: Text-Detoxification/src/data/__init__.py  \n",
            "   creating: Text-Detoxification/src/data/__pycache__/\n",
            "  inflating: Text-Detoxification/src/data/__pycache__/make_dataset.cpython-310.pyc  \n",
            "  inflating: Text-Detoxification/src/data/__pycache__/__init__.cpython-310.pyc  \n",
            "   creating: Text-Detoxification/src/models/\n",
            "  inflating: Text-Detoxification/src/models/train_model.py  \n",
            "  inflating: Text-Detoxification/src/models/__init__.py  \n",
            "   creating: Text-Detoxification/src/models/__pycache__/\n",
            "  inflating: Text-Detoxification/src/models/__pycache__/train_model.cpython-310.pyc  \n",
            "  inflating: Text-Detoxification/src/models/__pycache__/__init__.cpython-310.pyc  \n",
            "   creating: Text-Detoxification/src/visualization/\n",
            "  inflating: Text-Detoxification/src/visualization/plots.py  \n",
            "  inflating: Text-Detoxification/src/visualization/__init__.py  \n",
            "   creating: Text-Detoxification/src/visualization/__pycache__/\n",
            "  inflating: Text-Detoxification/src/visualization/__pycache__/plots.cpython-310.pyc  \n",
            "  inflating: Text-Detoxification/src/visualization/__pycache__/__init__.cpython-310.pyc  \n"
          ]
        }
      ]
    },
    {
      "cell_type": "code",
      "source": [
        "!pip install transformers\n",
        "!pip install evaluate\n",
        "!pip install accelerate -U"
      ],
      "metadata": {
        "colab": {
          "base_uri": "https://localhost:8080/"
        },
        "id": "_AwoVMwRJn5W",
        "outputId": "606c5f7f-9244-4e8c-b7da-714815f65eb5"
      },
      "id": "_AwoVMwRJn5W",
      "execution_count": 1,
      "outputs": [
        {
          "output_type": "stream",
          "name": "stdout",
          "text": [
            "Requirement already satisfied: transformers in /usr/local/lib/python3.10/dist-packages (4.35.0)\n",
            "Requirement already satisfied: filelock in /usr/local/lib/python3.10/dist-packages (from transformers) (3.12.4)\n",
            "Requirement already satisfied: huggingface-hub<1.0,>=0.16.4 in /usr/local/lib/python3.10/dist-packages (from transformers) (0.17.3)\n",
            "Requirement already satisfied: numpy>=1.17 in /usr/local/lib/python3.10/dist-packages (from transformers) (1.23.5)\n",
            "Requirement already satisfied: packaging>=20.0 in /usr/local/lib/python3.10/dist-packages (from transformers) (23.2)\n",
            "Requirement already satisfied: pyyaml>=5.1 in /usr/local/lib/python3.10/dist-packages (from transformers) (6.0.1)\n",
            "Requirement already satisfied: regex!=2019.12.17 in /usr/local/lib/python3.10/dist-packages (from transformers) (2023.6.3)\n",
            "Requirement already satisfied: requests in /usr/local/lib/python3.10/dist-packages (from transformers) (2.31.0)\n",
            "Requirement already satisfied: tokenizers<0.15,>=0.14 in /usr/local/lib/python3.10/dist-packages (from transformers) (0.14.1)\n",
            "Requirement already satisfied: safetensors>=0.3.1 in /usr/local/lib/python3.10/dist-packages (from transformers) (0.4.0)\n",
            "Requirement already satisfied: tqdm>=4.27 in /usr/local/lib/python3.10/dist-packages (from transformers) (4.66.1)\n",
            "Requirement already satisfied: fsspec in /usr/local/lib/python3.10/dist-packages (from huggingface-hub<1.0,>=0.16.4->transformers) (2023.6.0)\n",
            "Requirement already satisfied: typing-extensions>=3.7.4.3 in /usr/local/lib/python3.10/dist-packages (from huggingface-hub<1.0,>=0.16.4->transformers) (4.5.0)\n",
            "Requirement already satisfied: charset-normalizer<4,>=2 in /usr/local/lib/python3.10/dist-packages (from requests->transformers) (3.3.1)\n",
            "Requirement already satisfied: idna<4,>=2.5 in /usr/local/lib/python3.10/dist-packages (from requests->transformers) (3.4)\n",
            "Requirement already satisfied: urllib3<3,>=1.21.1 in /usr/local/lib/python3.10/dist-packages (from requests->transformers) (2.0.7)\n",
            "Requirement already satisfied: certifi>=2017.4.17 in /usr/local/lib/python3.10/dist-packages (from requests->transformers) (2023.7.22)\n",
            "Requirement already satisfied: evaluate in /usr/local/lib/python3.10/dist-packages (0.4.1)\n",
            "Requirement already satisfied: datasets>=2.0.0 in /usr/local/lib/python3.10/dist-packages (from evaluate) (2.14.6)\n",
            "Requirement already satisfied: numpy>=1.17 in /usr/local/lib/python3.10/dist-packages (from evaluate) (1.23.5)\n",
            "Requirement already satisfied: dill in /usr/local/lib/python3.10/dist-packages (from evaluate) (0.3.7)\n",
            "Requirement already satisfied: pandas in /usr/local/lib/python3.10/dist-packages (from evaluate) (1.5.3)\n",
            "Requirement already satisfied: requests>=2.19.0 in /usr/local/lib/python3.10/dist-packages (from evaluate) (2.31.0)\n",
            "Requirement already satisfied: tqdm>=4.62.1 in /usr/local/lib/python3.10/dist-packages (from evaluate) (4.66.1)\n",
            "Requirement already satisfied: xxhash in /usr/local/lib/python3.10/dist-packages (from evaluate) (3.4.1)\n",
            "Requirement already satisfied: multiprocess in /usr/local/lib/python3.10/dist-packages (from evaluate) (0.70.15)\n",
            "Requirement already satisfied: fsspec[http]>=2021.05.0 in /usr/local/lib/python3.10/dist-packages (from evaluate) (2023.6.0)\n",
            "Requirement already satisfied: huggingface-hub>=0.7.0 in /usr/local/lib/python3.10/dist-packages (from evaluate) (0.17.3)\n",
            "Requirement already satisfied: packaging in /usr/local/lib/python3.10/dist-packages (from evaluate) (23.2)\n",
            "Requirement already satisfied: responses<0.19 in /usr/local/lib/python3.10/dist-packages (from evaluate) (0.18.0)\n",
            "Requirement already satisfied: pyarrow>=8.0.0 in /usr/local/lib/python3.10/dist-packages (from datasets>=2.0.0->evaluate) (9.0.0)\n",
            "Requirement already satisfied: aiohttp in /usr/local/lib/python3.10/dist-packages (from datasets>=2.0.0->evaluate) (3.8.6)\n",
            "Requirement already satisfied: pyyaml>=5.1 in /usr/local/lib/python3.10/dist-packages (from datasets>=2.0.0->evaluate) (6.0.1)\n",
            "Requirement already satisfied: filelock in /usr/local/lib/python3.10/dist-packages (from huggingface-hub>=0.7.0->evaluate) (3.12.4)\n",
            "Requirement already satisfied: typing-extensions>=3.7.4.3 in /usr/local/lib/python3.10/dist-packages (from huggingface-hub>=0.7.0->evaluate) (4.5.0)\n",
            "Requirement already satisfied: charset-normalizer<4,>=2 in /usr/local/lib/python3.10/dist-packages (from requests>=2.19.0->evaluate) (3.3.1)\n",
            "Requirement already satisfied: idna<4,>=2.5 in /usr/local/lib/python3.10/dist-packages (from requests>=2.19.0->evaluate) (3.4)\n",
            "Requirement already satisfied: urllib3<3,>=1.21.1 in /usr/local/lib/python3.10/dist-packages (from requests>=2.19.0->evaluate) (2.0.7)\n",
            "Requirement already satisfied: certifi>=2017.4.17 in /usr/local/lib/python3.10/dist-packages (from requests>=2.19.0->evaluate) (2023.7.22)\n",
            "Requirement already satisfied: python-dateutil>=2.8.1 in /usr/local/lib/python3.10/dist-packages (from pandas->evaluate) (2.8.2)\n",
            "Requirement already satisfied: pytz>=2020.1 in /usr/local/lib/python3.10/dist-packages (from pandas->evaluate) (2023.3.post1)\n",
            "Requirement already satisfied: attrs>=17.3.0 in /usr/local/lib/python3.10/dist-packages (from aiohttp->datasets>=2.0.0->evaluate) (23.1.0)\n",
            "Requirement already satisfied: multidict<7.0,>=4.5 in /usr/local/lib/python3.10/dist-packages (from aiohttp->datasets>=2.0.0->evaluate) (6.0.4)\n",
            "Requirement already satisfied: async-timeout<5.0,>=4.0.0a3 in /usr/local/lib/python3.10/dist-packages (from aiohttp->datasets>=2.0.0->evaluate) (4.0.3)\n",
            "Requirement already satisfied: yarl<2.0,>=1.0 in /usr/local/lib/python3.10/dist-packages (from aiohttp->datasets>=2.0.0->evaluate) (1.9.2)\n",
            "Requirement already satisfied: frozenlist>=1.1.1 in /usr/local/lib/python3.10/dist-packages (from aiohttp->datasets>=2.0.0->evaluate) (1.4.0)\n",
            "Requirement already satisfied: aiosignal>=1.1.2 in /usr/local/lib/python3.10/dist-packages (from aiohttp->datasets>=2.0.0->evaluate) (1.3.1)\n",
            "Requirement already satisfied: six>=1.5 in /usr/local/lib/python3.10/dist-packages (from python-dateutil>=2.8.1->pandas->evaluate) (1.16.0)\n",
            "Requirement already satisfied: accelerate in /usr/local/lib/python3.10/dist-packages (0.24.1)\n",
            "Requirement already satisfied: numpy>=1.17 in /usr/local/lib/python3.10/dist-packages (from accelerate) (1.23.5)\n",
            "Requirement already satisfied: packaging>=20.0 in /usr/local/lib/python3.10/dist-packages (from accelerate) (23.2)\n",
            "Requirement already satisfied: psutil in /usr/local/lib/python3.10/dist-packages (from accelerate) (5.9.5)\n",
            "Requirement already satisfied: pyyaml in /usr/local/lib/python3.10/dist-packages (from accelerate) (6.0.1)\n",
            "Requirement already satisfied: torch>=1.10.0 in /usr/local/lib/python3.10/dist-packages (from accelerate) (2.1.0+cu118)\n",
            "Requirement already satisfied: huggingface-hub in /usr/local/lib/python3.10/dist-packages (from accelerate) (0.17.3)\n",
            "Requirement already satisfied: filelock in /usr/local/lib/python3.10/dist-packages (from torch>=1.10.0->accelerate) (3.12.4)\n",
            "Requirement already satisfied: typing-extensions in /usr/local/lib/python3.10/dist-packages (from torch>=1.10.0->accelerate) (4.5.0)\n",
            "Requirement already satisfied: sympy in /usr/local/lib/python3.10/dist-packages (from torch>=1.10.0->accelerate) (1.12)\n",
            "Requirement already satisfied: networkx in /usr/local/lib/python3.10/dist-packages (from torch>=1.10.0->accelerate) (3.2)\n",
            "Requirement already satisfied: jinja2 in /usr/local/lib/python3.10/dist-packages (from torch>=1.10.0->accelerate) (3.1.2)\n",
            "Requirement already satisfied: fsspec in /usr/local/lib/python3.10/dist-packages (from torch>=1.10.0->accelerate) (2023.6.0)\n",
            "Requirement already satisfied: triton==2.1.0 in /usr/local/lib/python3.10/dist-packages (from torch>=1.10.0->accelerate) (2.1.0)\n",
            "Requirement already satisfied: requests in /usr/local/lib/python3.10/dist-packages (from huggingface-hub->accelerate) (2.31.0)\n",
            "Requirement already satisfied: tqdm>=4.42.1 in /usr/local/lib/python3.10/dist-packages (from huggingface-hub->accelerate) (4.66.1)\n",
            "Requirement already satisfied: MarkupSafe>=2.0 in /usr/local/lib/python3.10/dist-packages (from jinja2->torch>=1.10.0->accelerate) (2.1.3)\n",
            "Requirement already satisfied: charset-normalizer<4,>=2 in /usr/local/lib/python3.10/dist-packages (from requests->huggingface-hub->accelerate) (3.3.1)\n",
            "Requirement already satisfied: idna<4,>=2.5 in /usr/local/lib/python3.10/dist-packages (from requests->huggingface-hub->accelerate) (3.4)\n",
            "Requirement already satisfied: urllib3<3,>=1.21.1 in /usr/local/lib/python3.10/dist-packages (from requests->huggingface-hub->accelerate) (2.0.7)\n",
            "Requirement already satisfied: certifi>=2017.4.17 in /usr/local/lib/python3.10/dist-packages (from requests->huggingface-hub->accelerate) (2023.7.22)\n",
            "Requirement already satisfied: mpmath>=0.19 in /usr/local/lib/python3.10/dist-packages (from sympy->torch>=1.10.0->accelerate) (1.3.0)\n"
          ]
        }
      ]
    },
    {
      "cell_type": "code",
      "execution_count": 1,
      "id": "748532da",
      "metadata": {
        "id": "748532da"
      },
      "outputs": [],
      "source": [
        "import torch\n",
        "import sys\n",
        "import pandas as pd\n",
        "sys.path.append('../')\n",
        "colab = False\n",
        "if 'google.colab' in sys.modules:\n",
        "    # You are running on Google Colab\n",
        "    colab = True\n",
        "if colab:\n",
        "  sys.path.append('Text-Detoxification')\n",
        "\n",
        "from transformers import BartForConditionalGeneration, BartTokenizer, AutoConfig\n"
      ]
    },
    {
      "cell_type": "code",
      "execution_count": 2,
      "id": "4592fb38",
      "metadata": {
        "id": "4592fb38"
      },
      "outputs": [],
      "source": [
        "from src.data.make_dataset import TextDetoxificationDataset\n",
        "from src.models.train_model import TrainTextDetoxificationModel"
      ]
    },
    {
      "cell_type": "code",
      "execution_count": 3,
      "id": "a2380516",
      "metadata": {
        "id": "a2380516"
      },
      "outputs": [],
      "source": [
        "file_path = 'data/raw/filtered.tsv'\n",
        "if colab:\n",
        "  file_path = 'Text-Detoxification/' + file_path\n",
        "\n",
        "model_checkpoint = 'eugenesiow/bart-paraphrase'\n",
        "df = pd.read_csv(file_path, sep='\\t')\n",
        "\n",
        "config = AutoConfig.from_pretrained(model_checkpoint)\n",
        "config.max_length = 64\n",
        "\n",
        "model = BartForConditionalGeneration.from_pretrained(model_checkpoint, config = config)\n",
        "device = torch.device(\"cuda\" if torch.cuda.is_available() else \"cpu\")\n",
        "model = model.to(device)\n",
        "tokenizer = BartTokenizer.from_pretrained(model_checkpoint)"
      ]
    },
    {
      "cell_type": "code",
      "execution_count": 4,
      "id": "365e5016",
      "metadata": {
        "id": "365e5016"
      },
      "outputs": [],
      "source": [
        "from sklearn.model_selection import train_test_split\n",
        "\n",
        "\n",
        "# Split the dataset into train, test, and validation sets\n",
        "train_df, test_df = train_test_split(df, test_size=0.2, random_state=42)\n",
        "train_df, val_df = train_test_split(train_df, test_size=0.2, random_state=42)\n",
        "\n",
        "# Create datasets using the split data\n",
        "train_dataset = TextDetoxificationDataset(train_df.reset_index(drop=True), tokenizer, 64)\n",
        "val_dataset = TextDetoxificationDataset(val_df.reset_index(drop=True), tokenizer, 64)\n",
        "test_dataset = TextDetoxificationDataset(test_df.reset_index(drop=True), tokenizer, 64)\n",
        "\n",
        "dataset = {\"train\": train_dataset, \"validation\":val_dataset, \"test\":test_dataset}"
      ]
    },
    {
      "cell_type": "code",
      "execution_count": null,
      "id": "82d8a1d1",
      "metadata": {
        "colab": {
          "base_uri": "https://localhost:8080/",
          "height": 96
        },
        "id": "82d8a1d1",
        "outputId": "c5ad5da5-1c4f-4a82-ca29-363bf843a324"
      },
      "outputs": [
        {
          "output_type": "display_data",
          "data": {
            "text/plain": [
              "<IPython.core.display.HTML object>"
            ],
            "text/html": [
              "\n",
              "    <div>\n",
              "      \n",
              "      <progress value='7397' max='14792' style='width:300px; height:20px; vertical-align: middle;'></progress>\n",
              "      [ 7397/14792 1:32:14 < 1:32:14, 1.34 it/s, Epoch 1/2]\n",
              "    </div>\n",
              "    <table border=\"1\" class=\"dataframe\">\n",
              "  <thead>\n",
              " <tr style=\"text-align: left;\">\n",
              "      <th>Epoch</th>\n",
              "      <th>Training Loss</th>\n",
              "      <th>Validation Loss</th>\n",
              "    </tr>\n",
              "  </thead>\n",
              "  <tbody>\n",
              "  </tbody>\n",
              "</table><p>\n",
              "    <div>\n",
              "      \n",
              "      <progress value='403' max='1849' style='width:300px; height:20px; vertical-align: middle;'></progress>\n",
              "      [ 403/1849 25:15 < 1:30:52, 0.27 it/s]\n",
              "    </div>\n",
              "    "
            ]
          },
          "metadata": {}
        }
      ],
      "source": [
        "logs = TrainTextDetoxificationModel(model, dataset, tokenizer, 2, 1e-4, 0.01, batch_size = 50)"
      ]
    },
    {
      "cell_type": "code",
      "execution_count": 1,
      "id": "46fb8a7e",
      "metadata": {
        "id": "46fb8a7e"
      },
      "outputs": [],
      "source": []
    }
  ],
  "metadata": {
    "kernelspec": {
      "display_name": "Python 3",
      "name": "python3"
    },
    "language_info": {
      "codemirror_mode": {
        "name": "ipython",
        "version": 3
      },
      "file_extension": ".py",
      "mimetype": "text/x-python",
      "name": "python",
      "nbconvert_exporter": "python",
      "pygments_lexer": "ipython3",
      "version": "3.10.9"
    },
    "colab": {
      "provenance": [],
      "gpuType": "T4"
    },
    "accelerator": "GPU"
  },
  "nbformat": 4,
  "nbformat_minor": 5
}